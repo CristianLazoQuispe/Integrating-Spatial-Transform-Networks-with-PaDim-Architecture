{
 "cells": [
  {
   "cell_type": "code",
   "execution_count": null,
   "id": "a827f660-6236-4911-9f95-e4f1e4b1b254",
   "metadata": {
    "tags": []
   },
   "outputs": [],
   "source": [
    "import sys\n",
    "import os\n",
    "import numpy as np\n",
    "sys.path.insert(1, '../')\n",
    "\n",
    "\n",
    "from src.padim_model import train as padim_train\n",
    "from src.stn_model import train as stn_train\n",
    "from src import utils\n",
    "\n",
    "\n",
    "CLASS_NAMES = ['bottle', 'cable', 'capsule', 'carpet', 'grid',\n",
    "               'hazelnut', 'leather', 'metal_nut', 'pill', 'screw',\n",
    "               'tile', 'toothbrush', 'transistor', 'wood', 'zipper']\n",
    "%load_ext autoreload\n",
    "%autoreload 2"
   ]
  },
  {
   "cell_type": "code",
   "execution_count": null,
   "id": "735f61cb",
   "metadata": {},
   "outputs": [],
   "source": [
    "utils.set_seed()"
   ]
  },
  {
   "cell_type": "code",
   "execution_count": null,
   "id": "0a2ad4f6-eaae-489e-bdeb-4ded85f87eed",
   "metadata": {},
   "outputs": [],
   "source": [
    "stn_model,train_loader = stn_train.start(data_dir ='../data/mvtec_anomaly_detection',\n",
    "                      batch_size = 32,learning_rate = 0.001,num_epochs = 1)"
   ]
  },
  {
   "cell_type": "code",
   "execution_count": null,
   "id": "95fd5dff",
   "metadata": {},
   "outputs": [],
   "source": [
    "stn_train.visualize_stn(stn_model,train_loader)"
   ]
  },
  {
   "cell_type": "code",
   "execution_count": null,
   "id": "c1d1e801-fa0a-4c91-8b14-bf3ec1e1c650",
   "metadata": {},
   "outputs": [],
   "source": [
    "stn_train.save_model(stn_model,model_name='../results/stn_model.pt')"
   ]
  },
  {
   "cell_type": "code",
   "execution_count": null,
   "id": "88aa275a-8567-41cd-b491-0ca1902c44db",
   "metadata": {},
   "outputs": [],
   "source": [
    "stn_model_loaded = stn_train.load_model(stn_model,model_name='../results/stn_model.pt')"
   ]
  },
  {
   "cell_type": "code",
   "execution_count": null,
   "id": "81850dff-438d-468a-a90a-4cd97e4b530e",
   "metadata": {},
   "outputs": [],
   "source": [
    "fig_pixel_rocauc,fig_img_rocauc,total_roc_auc,total_pixel_roc_auc,fig = padim_train.start(CLASS_NAMES,stn_model_loaded,data_path = '../data/mvtec_anomaly_detection',\n",
    "                  arch = 'resnet18',path_results='../results/mvtec_result')"
   ]
  },
  {
   "cell_type": "code",
   "execution_count": null,
   "id": "83757751-9169-4f85-9c3f-26f4443c5031",
   "metadata": {},
   "outputs": [],
   "source": [
    "print('Average Image ROCAUC: %.3f' % np.mean(total_roc_auc))\n",
    "fig_img_rocauc.title.set_text('Average image ROCAUC: %.3f' % np.mean(total_roc_auc))\n",
    "fig_img_rocauc.legend(loc=\"lower right\")"
   ]
  },
  {
   "cell_type": "code",
   "execution_count": null,
   "id": "76936333-ae94-4cf0-9a1a-7c7cae33dfbb",
   "metadata": {},
   "outputs": [],
   "source": [
    "\n",
    "print('Average pixel ROCUAC: %.3f' % np.mean(total_pixel_roc_auc))\n",
    "fig_pixel_rocauc.title.set_text('Average pixel ROCAUC: %.3f' % np.mean(total_pixel_roc_auc))\n",
    "fig_pixel_rocauc.legend(loc=\"lower right\")\n"
   ]
  },
  {
   "cell_type": "code",
   "execution_count": null,
   "id": "399fc697-cfae-4e7b-bb8f-ab3ff482f6b7",
   "metadata": {},
   "outputs": [],
   "source": [
    "\n",
    "fig.tight_layout()\n",
    "fig.savefig(os.path.join('../results/mvtec_result', 'roc_curve_fresnet_18.png'), dpi=100)\n"
   ]
  },
  {
   "cell_type": "code",
   "execution_count": null,
   "id": "d24bead8-bd48-40bb-ba06-3f9b576c47b6",
   "metadata": {},
   "outputs": [],
   "source": []
  },
  {
   "cell_type": "code",
   "execution_count": null,
   "id": "b2210f29",
   "metadata": {},
   "outputs": [],
   "source": []
  }
 ],
 "metadata": {
  "kernelspec": {
   "display_name": "Python 3 (ipykernel)",
   "language": "python",
   "name": "python3"
  },
  "language_info": {
   "codemirror_mode": {
    "name": "ipython",
    "version": 3
   },
   "file_extension": ".py",
   "mimetype": "text/x-python",
   "name": "python",
   "nbconvert_exporter": "python",
   "pygments_lexer": "ipython3",
   "version": "3.9.17"
  }
 },
 "nbformat": 4,
 "nbformat_minor": 5
}
